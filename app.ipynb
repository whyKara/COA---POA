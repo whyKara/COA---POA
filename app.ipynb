{
 "cells": [
  {
   "cell_type": "code",
   "execution_count": 1,
   "metadata": {},
   "outputs": [],
   "source": [
    "!pip3 install pandas -q"
   ]
  },
  {
   "cell_type": "code",
   "execution_count": 3,
   "metadata": {},
   "outputs": [],
   "source": [
    "!pip3 install openpyxl -q"
   ]
  },
  {
   "cell_type": "code",
   "execution_count": 1,
   "metadata": {},
   "outputs": [],
   "source": [
    "import pandas as pd\n",
    "import openpyxl"
   ]
  },
  {
   "cell_type": "code",
   "execution_count": 13,
   "metadata": {},
   "outputs": [],
   "source": [
    "from openpyxl import load_workbook"
   ]
  },
  {
   "cell_type": "code",
   "execution_count": 14,
   "metadata": {},
   "outputs": [
    {
     "data": {
      "text/html": [
       "<div>\n",
       "<style scoped>\n",
       "    .dataframe tbody tr th:only-of-type {\n",
       "        vertical-align: middle;\n",
       "    }\n",
       "\n",
       "    .dataframe tbody tr th {\n",
       "        vertical-align: top;\n",
       "    }\n",
       "\n",
       "    .dataframe thead th {\n",
       "        text-align: right;\n",
       "    }\n",
       "</style>\n",
       "<table border=\"1\" class=\"dataframe\">\n",
       "  <thead>\n",
       "    <tr style=\"text-align: right;\">\n",
       "      <th></th>\n",
       "      <th>Attainment Levels</th>\n",
       "      <th>Unnamed: 1</th>\n",
       "      <th>Unnamed: 2</th>\n",
       "      <th>Unnamed: 3</th>\n",
       "    </tr>\n",
       "  </thead>\n",
       "  <tbody>\n",
       "    <tr>\n",
       "      <th>count</th>\n",
       "      <td>33</td>\n",
       "      <td>26</td>\n",
       "      <td>19</td>\n",
       "      <td>7.0</td>\n",
       "    </tr>\n",
       "    <tr>\n",
       "      <th>unique</th>\n",
       "      <td>31</td>\n",
       "      <td>21</td>\n",
       "      <td>12</td>\n",
       "      <td>7.0</td>\n",
       "    </tr>\n",
       "    <tr>\n",
       "      <th>top</th>\n",
       "      <td>Direct Tools:</td>\n",
       "      <td>Not Attained (NA)</td>\n",
       "      <td>1</td>\n",
       "      <td>0.8</td>\n",
       "    </tr>\n",
       "    <tr>\n",
       "      <th>freq</th>\n",
       "      <td>2</td>\n",
       "      <td>2</td>\n",
       "      <td>3</td>\n",
       "      <td>1.0</td>\n",
       "    </tr>\n",
       "  </tbody>\n",
       "</table>\n",
       "</div>"
      ],
      "text/plain": [
       "                                            Attainment Levels    \n",
       "count                                                  33       \\\n",
       "unique                                                 31        \n",
       "top                                         Direct Tools:        \n",
       "freq                                                    2        \n",
       "\n",
       "               Unnamed: 1  Unnamed: 2  Unnamed: 3  \n",
       "count                  26          19         7.0  \n",
       "unique                 21          12         7.0  \n",
       "top     Not Attained (NA)           1         0.8  \n",
       "freq                    2           3         1.0  "
      ]
     },
     "execution_count": 14,
     "metadata": {},
     "output_type": "execute_result"
    }
   ],
   "source": [
    "df = pd.read_excel('1. NBA_DBCE_Final_Formats/8. Course and Program Outcome Attainment 1.xlsx')\n",
    "df.describe()"
   ]
  },
  {
   "cell_type": "code",
   "execution_count": 10,
   "metadata": {},
   "outputs": [
    {
     "data": {
      "text/plain": [
       "(58, 4)"
      ]
     },
     "execution_count": 10,
     "metadata": {},
     "output_type": "execute_result"
    }
   ],
   "source": [
    "df.shape"
   ]
  },
  {
   "cell_type": "code",
   "execution_count": 15,
   "metadata": {},
   "outputs": [],
   "source": [
    "file_path = '1. NBA_DBCE_Final_Formats/8. Course and Program Outcome Attainment 1.xlsx'\n",
    "workbook = load_workbook(file_path)"
   ]
  },
  {
   "cell_type": "code",
   "execution_count": 4,
   "metadata": {},
   "outputs": [
    {
     "data": {
      "text/plain": [
       "<openpyxl.workbook.workbook.Workbook at 0x12b411ac0>"
      ]
     },
     "execution_count": 4,
     "metadata": {},
     "output_type": "execute_result"
    }
   ],
   "source": []
  },
  {
   "cell_type": "code",
   "execution_count": 5,
   "metadata": {},
   "outputs": [],
   "source": [
    "sheet_name = 'Internal test I and II'  # Replace with the actual sheet name\n",
    "sheet = workbook[sheet_name]\n"
   ]
  },
  {
   "cell_type": "code",
   "execution_count": 19,
   "metadata": {},
   "outputs": [
    {
     "data": {
      "text/plain": [
       "'IT 1 Marks'"
      ]
     },
     "execution_count": 19,
     "metadata": {},
     "output_type": "execute_result"
    }
   ],
   "source": [
    "cell_value = sheet['C18'].value  # Read value from cell A1\n",
    "cell_value"
   ]
  },
  {
   "cell_type": "code",
   "execution_count": 8,
   "metadata": {},
   "outputs": [],
   "source": [
    "import sqlite3\n",
    "\n",
    "# Create a connection to the database\n",
    "conn = sqlite3.connect('database.db')\n",
    "cursor = conn.cursor()\n",
    "\n",
    "# Create Program_outcome table\n",
    "cursor.execute('''\n",
    "    CREATE TABLE Program_outcome (\n",
    "        po_id INTEGER PRIMARY KEY,\n",
    "        po_description VARCHAR\n",
    "    )\n",
    "''')\n",
    "\n",
    "# Create Course table\n",
    "cursor.execute('''\n",
    "    CREATE TABLE Course (\n",
    "        course_id INTEGER PRIMARY KEY,\n",
    "        course_name VARCHAR,\n",
    "        course_description VARCHAR\n",
    "    )\n",
    "''')\n",
    "\n",
    "# Create Course_outcome table\n",
    "cursor.execute('''\n",
    "    CREATE TABLE Course_outcome (\n",
    "        co_id INTEGER PRIMARY KEY,\n",
    "        co_description VARCHAR,\n",
    "        co_treshold FLOAT,\n",
    "        co_total_marks INTEGER,\n",
    "        co_treshold_marks FLOAT,\n",
    "        co_attainment INTEGER,\n",
    "        course_id INTEGER,\n",
    "        po_id INTEGER,\n",
    "        FOREIGN KEY (course_id) REFERENCES Course (course_id),\n",
    "        FOREIGN KEY (po_id) REFERENCES Program_outcome (po_id)\n",
    "    )\n",
    "''')\n",
    "\n",
    "# Create Internal_tests table\n",
    "cursor.execute('''\n",
    "    CREATE TABLE Internal_tests (\n",
    "        test_id INTEGER PRIMARY KEY,\n",
    "        test_name VARCHAR,\n",
    "        course_id INTEGER,\n",
    "        FOREIGN KEY (course_id) REFERENCES Course (course_id)\n",
    "    )\n",
    "''')\n",
    "\n",
    "# Create Test_questions table\n",
    "cursor.execute('''\n",
    "    CREATE TABLE Test_questions (\n",
    "        question_id INTEGER PRIMARY KEY,\n",
    "        question_marks INTEGER,\n",
    "        test_id INTEGER,\n",
    "        co_id INTEGER,\n",
    "        FOREIGN KEY (test_id) REFERENCES Internal_tests (test_id),\n",
    "        FOREIGN KEY (co_id) REFERENCES Course_outcome (co_id)\n",
    "    )\n",
    "''')\n",
    "\n",
    "# Create Students_Marks table\n",
    "cursor.execute('''\n",
    "    CREATE TABLE Students_Marks (\n",
    "        marks_id INTEGER PRIMARY KEY,\n",
    "        students_rollno INTEGER,\n",
    "        test_id INTEGER,\n",
    "        question_id INTEGER,\n",
    "        marks_obtained INTEGER,\n",
    "        FOREIGN KEY (test_id) REFERENCES Internal_tests (test_id),\n",
    "        FOREIGN KEY (question_id) REFERENCES Test_questions (question_id)\n",
    "    )\n",
    "''')\n",
    "\n",
    "# Create CO_marks table\n",
    "cursor.execute('''\n",
    "    CREATE TABLE CO_marks (\n",
    "        co_marks_id INTEGER PRIMARY KEY,\n",
    "        students_rollno INTEGER,\n",
    "        co_id INTEGER,\n",
    "        FOREIGN KEY (co_id) REFERENCES Course_outcome (co_id)\n",
    "    )\n",
    "''')\n",
    "\n",
    "# Commit the changes and close the connection\n",
    "conn.commit()\n",
    "conn.close()\n"
   ]
  },
  {
   "cell_type": "code",
   "execution_count": 4,
   "metadata": {},
   "outputs": [
    {
     "data": {
      "text/plain": [
       "<sqlite3.Connection at 0x10429d990>"
      ]
     },
     "execution_count": 4,
     "metadata": {},
     "output_type": "execute_result"
    }
   ],
   "source": [
    "import sqlite3\n",
    "\n",
    "def connect_to_database(database_name):\n",
    "    conn = sqlite3.connect(database_name)\n",
    "    return conn\n",
    "\n",
    "conn = connect_to_database('database.db')\n",
    "conn"
   ]
  },
  {
   "cell_type": "code",
   "execution_count": 3,
   "metadata": {},
   "outputs": [],
   "source": [
    "def insert_into_program_outcome(conn, po_description):\n",
    "    cursor = conn.cursor()\n",
    "    # cursor.execute('''\n",
    "    #     INSERT INTO Program_outcome (po_description)\n",
    "    #     VALUES (?)\n",
    "    # ''', (po_description,))\n",
    "\n",
    "    cursor.execute('''\n",
    "    INSERT INTO Program_outcome (po_description)\n",
    "    VALUES ('PO 1 Description'),\n",
    "           ('PO 2 Description'),\n",
    "           ('PO 3 Description')\n",
    "    ''')\n",
    "    cursor.close()\n",
    "\n",
    "insert_into_program_outcome(conn, 'P1')\n"
   ]
  },
  {
   "cell_type": "code",
   "execution_count": 20,
   "metadata": {},
   "outputs": [
    {
     "name": "stdout",
     "output_type": "stream",
     "text": [
      "Database setup completed.\n"
     ]
    }
   ],
   "source": [
    "import sqlite3\n",
    "\n",
    "# Connect to the database (creates a new database if it doesn't exist)\n",
    "conn = sqlite3.connect('db2.db')\n",
    "cursor = conn.cursor()\n",
    "\n",
    "# Create the Class table\n",
    "cursor.execute('''\n",
    "    CREATE TABLE IF NOT EXISTS Class (\n",
    "        class_id INTEGER PRIMARY KEY,\n",
    "        class_name VARCHAR\n",
    "    )\n",
    "''')\n",
    "\n",
    "# Create the Test table\n",
    "cursor.execute('''\n",
    "    CREATE TABLE IF NOT EXISTS Test (\n",
    "        test_id INTEGER PRIMARY KEY,\n",
    "        test_name VARCHAR\n",
    "    )\n",
    "''')\n",
    "\n",
    "# Create the Subject table\n",
    "cursor.execute('''\n",
    "    CREATE TABLE IF NOT EXISTS Subject (\n",
    "        sub_id INTEGER PRIMARY KEY,\n",
    "        sub_name VARCHAR\n",
    "    )\n",
    "''')\n",
    "\n",
    "# Create the Question table\n",
    "cursor.execute('''\n",
    "    CREATE TABLE IF NOT EXISTS Question (\n",
    "        question_id INTEGER PRIMARY KEY,\n",
    "        question_text VARCHAR\n",
    "    )\n",
    "''')\n",
    "\n",
    "# Create the CourseOutcome table\n",
    "cursor.execute('''\n",
    "    CREATE TABLE IF NOT EXISTS CourseOutcome (\n",
    "        co_id INTEGER PRIMARY KEY,\n",
    "        co_description VARCHAR\n",
    "    )\n",
    "''')\n",
    "\n",
    "# Create the DataMaster table\n",
    "cursor.execute('''\n",
    "    CREATE TABLE IF NOT EXISTS DataMaster (\n",
    "        mark_id INTEGER PRIMARY KEY,\n",
    "        class_id INTEGER,\n",
    "        test_id INTEGER,\n",
    "        sub_id INTEGER,\n",
    "        question_id INTEGER,\n",
    "        question_marks INTEGER,\n",
    "        co_attainment INTEGER,\n",
    "        FOREIGN KEY (class_id) REFERENCES Class (class_id),\n",
    "        FOREIGN KEY (test_id) REFERENCES Test (test_id),\n",
    "        FOREIGN KEY (sub_id) REFERENCES Subject (sub_id),\n",
    "        FOREIGN KEY (question_id) REFERENCES Question (question_id),\n",
    "        FOREIGN KEY (co_attainment) REFERENCES CourseOutcome (co_id)\n",
    "    )\n",
    "''')\n",
    "\n",
    "# Commit the changes and close the connection\n",
    "conn.commit()\n",
    "conn.close()\n",
    "\n",
    "print(\"Database setup completed.\")\n"
   ]
  },
  {
   "cell_type": "code",
   "execution_count": 21,
   "metadata": {},
   "outputs": [],
   "source": [
    "import sqlite3\n",
    "\n",
    "# Create a connection to the database\n",
    "conn = sqlite3.connect('db2.db')\n",
    "cursor = conn.cursor()\n",
    "\n",
    "# Create the DataMaster table\n",
    "cursor.execute('''\n",
    "    CREATE TABLE IF NOT EXISTS DataMaster (\n",
    "        mark_id INTEGER PRIMARY KEY,\n",
    "        class_id TEXT,\n",
    "        test_id TEXT,\n",
    "        sub_id TEXT,\n",
    "        question_id TEXT,\n",
    "        question_marks TEXT,\n",
    "        co_attainment TEXT\n",
    "    )\n",
    "''')\n",
    "conn.commit()\n",
    "\n",
    "# Close the connection\n",
    "conn.close()\n"
   ]
  },
  {
   "cell_type": "code",
   "execution_count": null,
   "metadata": {},
   "outputs": [],
   "source": []
  }
 ],
 "metadata": {
  "kernelspec": {
   "display_name": "cpoa_env",
   "language": "python",
   "name": "python3"
  },
  "language_info": {
   "codemirror_mode": {
    "name": "ipython",
    "version": 3
   },
   "file_extension": ".py",
   "mimetype": "text/x-python",
   "name": "python",
   "nbconvert_exporter": "python",
   "pygments_lexer": "ipython3",
   "version": "3.9.16"
  },
  "orig_nbformat": 4
 },
 "nbformat": 4,
 "nbformat_minor": 2
}
