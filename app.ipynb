{
 "cells": [
  {
   "cell_type": "code",
   "execution_count": 1,
   "metadata": {},
   "outputs": [],
   "source": [
    "!pip3 install pandas -q"
   ]
  },
  {
   "cell_type": "code",
   "execution_count": 3,
   "metadata": {},
   "outputs": [],
   "source": [
    "!pip3 install openpyxl -q"
   ]
  },
  {
   "cell_type": "code",
   "execution_count": 4,
   "metadata": {},
   "outputs": [],
   "source": [
    "import pandas as pd\n",
    "import openpyxl"
   ]
  },
  {
   "cell_type": "code",
   "execution_count": 1,
   "metadata": {},
   "outputs": [],
   "source": [
    "from openpyxl import load_workbook"
   ]
  },
  {
   "cell_type": "code",
   "execution_count": 2,
   "metadata": {},
   "outputs": [],
   "source": [
    "file_path = '1. NBA_DBCE_Final_Formats/8. Course and Program Outcome Attainment 1.xlsx'\n",
    "workbook = load_workbook(file_path)"
   ]
  },
  {
   "cell_type": "code",
   "execution_count": 3,
   "metadata": {},
   "outputs": [],
   "source": [
    "sheet_name = 'Internal test I and II'  # Replace with the actual sheet name\n",
    "sheet = workbook[sheet_name]\n"
   ]
  },
  {
   "cell_type": "code",
   "execution_count": 6,
   "metadata": {},
   "outputs": [
    {
     "data": {
      "text/plain": [
       "3"
      ]
     },
     "execution_count": 6,
     "metadata": {},
     "output_type": "execute_result"
    }
   ],
   "source": [
    "cell_value = sheet['D22'].value  # Read value from cell A1\n",
    "cell_value"
   ]
  },
  {
   "cell_type": "code",
   "execution_count": 8,
   "metadata": {},
   "outputs": [],
   "source": [
    "import sqlite3\n",
    "\n",
    "# Create a connection to the database\n",
    "conn = sqlite3.connect('database.db')\n",
    "cursor = conn.cursor()\n",
    "\n",
    "# Create Program_outcome table\n",
    "cursor.execute('''\n",
    "    CREATE TABLE Program_outcome (\n",
    "        po_id INTEGER PRIMARY KEY,\n",
    "        po_description VARCHAR\n",
    "    )\n",
    "''')\n",
    "\n",
    "# Create Course table\n",
    "cursor.execute('''\n",
    "    CREATE TABLE Course (\n",
    "        course_id INTEGER PRIMARY KEY,\n",
    "        course_name VARCHAR,\n",
    "        course_description VARCHAR\n",
    "    )\n",
    "''')\n",
    "\n",
    "# Create Course_outcome table\n",
    "cursor.execute('''\n",
    "    CREATE TABLE Course_outcome (\n",
    "        co_id INTEGER PRIMARY KEY,\n",
    "        co_description VARCHAR,\n",
    "        co_treshold FLOAT,\n",
    "        co_total_marks INTEGER,\n",
    "        co_treshold_marks FLOAT,\n",
    "        co_attainment INTEGER,\n",
    "        course_id INTEGER,\n",
    "        po_id INTEGER,\n",
    "        FOREIGN KEY (course_id) REFERENCES Course (course_id),\n",
    "        FOREIGN KEY (po_id) REFERENCES Program_outcome (po_id)\n",
    "    )\n",
    "''')\n",
    "\n",
    "# Create Internal_tests table\n",
    "cursor.execute('''\n",
    "    CREATE TABLE Internal_tests (\n",
    "        test_id INTEGER PRIMARY KEY,\n",
    "        test_name VARCHAR,\n",
    "        course_id INTEGER,\n",
    "        FOREIGN KEY (course_id) REFERENCES Course (course_id)\n",
    "    )\n",
    "''')\n",
    "\n",
    "# Create Test_questions table\n",
    "cursor.execute('''\n",
    "    CREATE TABLE Test_questions (\n",
    "        question_id INTEGER PRIMARY KEY,\n",
    "        question_marks INTEGER,\n",
    "        test_id INTEGER,\n",
    "        co_id INTEGER,\n",
    "        FOREIGN KEY (test_id) REFERENCES Internal_tests (test_id),\n",
    "        FOREIGN KEY (co_id) REFERENCES Course_outcome (co_id)\n",
    "    )\n",
    "''')\n",
    "\n",
    "# Create Students_Marks table\n",
    "cursor.execute('''\n",
    "    CREATE TABLE Students_Marks (\n",
    "        marks_id INTEGER PRIMARY KEY,\n",
    "        students_rollno INTEGER,\n",
    "        test_id INTEGER,\n",
    "        question_id INTEGER,\n",
    "        marks_obtained INTEGER,\n",
    "        FOREIGN KEY (test_id) REFERENCES Internal_tests (test_id),\n",
    "        FOREIGN KEY (question_id) REFERENCES Test_questions (question_id)\n",
    "    )\n",
    "''')\n",
    "\n",
    "# Create CO_marks table\n",
    "cursor.execute('''\n",
    "    CREATE TABLE CO_marks (\n",
    "        co_marks_id INTEGER PRIMARY KEY,\n",
    "        students_rollno INTEGER,\n",
    "        co_id INTEGER,\n",
    "        FOREIGN KEY (co_id) REFERENCES Course_outcome (co_id)\n",
    "    )\n",
    "''')\n",
    "\n",
    "# Commit the changes and close the connection\n",
    "conn.commit()\n",
    "conn.close()\n"
   ]
  },
  {
   "cell_type": "code",
   "execution_count": 4,
   "metadata": {},
   "outputs": [
    {
     "data": {
      "text/plain": [
       "<sqlite3.Connection at 0x10429d990>"
      ]
     },
     "execution_count": 4,
     "metadata": {},
     "output_type": "execute_result"
    }
   ],
   "source": [
    "import sqlite3\n",
    "\n",
    "def connect_to_database(database_name):\n",
    "    conn = sqlite3.connect(database_name)\n",
    "    return conn\n",
    "\n",
    "conn = connect_to_database('database.db')\n",
    "conn"
   ]
  },
  {
   "cell_type": "code",
   "execution_count": 3,
   "metadata": {},
   "outputs": [],
   "source": [
    "def insert_into_program_outcome(conn, po_description):\n",
    "    cursor = conn.cursor()\n",
    "    # cursor.execute('''\n",
    "    #     INSERT INTO Program_outcome (po_description)\n",
    "    #     VALUES (?)\n",
    "    # ''', (po_description,))\n",
    "\n",
    "    cursor.execute('''\n",
    "    INSERT INTO Program_outcome (po_description)\n",
    "    VALUES ('PO 1 Description'),\n",
    "           ('PO 2 Description'),\n",
    "           ('PO 3 Description')\n",
    "    ''')\n",
    "    cursor.close()\n",
    "\n",
    "insert_into_program_outcome(conn, 'P1')\n"
   ]
  },
  {
   "cell_type": "code",
   "execution_count": null,
   "metadata": {},
   "outputs": [],
   "source": []
  }
 ],
 "metadata": {
  "kernelspec": {
   "display_name": "cpoa_env",
   "language": "python",
   "name": "python3"
  },
  "language_info": {
   "codemirror_mode": {
    "name": "ipython",
    "version": 3
   },
   "file_extension": ".py",
   "mimetype": "text/x-python",
   "name": "python",
   "nbconvert_exporter": "python",
   "pygments_lexer": "ipython3",
   "version": "3.9.16"
  },
  "orig_nbformat": 4
 },
 "nbformat": 4,
 "nbformat_minor": 2
}
